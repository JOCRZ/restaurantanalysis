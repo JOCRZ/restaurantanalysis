{
 "cells": [
  {
   "cell_type": "code",
   "execution_count": 1,
   "metadata": {},
   "outputs": [],
   "source": [
    "import pandas as pd"
   ]
  },
  {
   "cell_type": "code",
   "execution_count": 17,
   "metadata": {},
   "outputs": [],
   "source": [
    "menu = pd.read_csv('/home/jo/Desktop/PortfolioProject/restaurant/menu_items.csv')\n",
    "order = pd.read_csv('/home/jo/Desktop/PortfolioProject/restaurant/order_details.csv')\n",
    "meta = pd.read_csv('/home/jo/Desktop/PortfolioProject/restaurant/restaurant_db_data_dictionary.csv')\n"
   ]
  },
  {
   "cell_type": "code",
   "execution_count": 27,
   "metadata": {},
   "outputs": [
    {
     "name": "stdout",
     "output_type": "stream",
     "text": [
      "menu_item_id      int64\n",
      "item_name        object\n",
      "category         object\n",
      "price           float64\n",
      "dtype: object\n",
      " \n",
      "order_details_id             int64\n",
      "order_id                     int64\n",
      "order_date          datetime64[ns]\n",
      "order_time          datetime64[ns]\n",
      "item_id                    float64\n",
      "dtype: object\n",
      " \n",
      "Table          object\n",
      "Field          object\n",
      "Description    object\n",
      "dtype: object\n"
     ]
    }
   ],
   "source": [
    "print(menu.dtypes)\n",
    "print(\" \")\n",
    "print(order.dtypes)\n",
    "print(\" \")\n",
    "print(meta.dtypes)"
   ]
  },
  {
   "cell_type": "code",
   "execution_count": 24,
   "metadata": {},
   "outputs": [
    {
     "data": {
      "text/html": [
       "<div>\n",
       "<style scoped>\n",
       "    .dataframe tbody tr th:only-of-type {\n",
       "        vertical-align: middle;\n",
       "    }\n",
       "\n",
       "    .dataframe tbody tr th {\n",
       "        vertical-align: top;\n",
       "    }\n",
       "\n",
       "    .dataframe thead th {\n",
       "        text-align: right;\n",
       "    }\n",
       "</style>\n",
       "<table border=\"1\" class=\"dataframe\">\n",
       "  <thead>\n",
       "    <tr style=\"text-align: right;\">\n",
       "      <th></th>\n",
       "      <th>order_details_id</th>\n",
       "      <th>order_id</th>\n",
       "      <th>order_date</th>\n",
       "      <th>order_time</th>\n",
       "      <th>item_id</th>\n",
       "    </tr>\n",
       "  </thead>\n",
       "  <tbody>\n",
       "    <tr>\n",
       "      <th>3972</th>\n",
       "      <td>3973</td>\n",
       "      <td>1771</td>\n",
       "      <td>2023-01-30</td>\n",
       "      <td>2024-08-26 19:46:17</td>\n",
       "      <td>131.0</td>\n",
       "    </tr>\n",
       "    <tr>\n",
       "      <th>8260</th>\n",
       "      <td>8261</td>\n",
       "      <td>3627</td>\n",
       "      <td>2023-03-02</td>\n",
       "      <td>2024-08-26 18:45:21</td>\n",
       "      <td>123.0</td>\n",
       "    </tr>\n",
       "    <tr>\n",
       "      <th>3445</th>\n",
       "      <td>3446</td>\n",
       "      <td>1527</td>\n",
       "      <td>2023-01-26</td>\n",
       "      <td>2024-08-26 15:14:30</td>\n",
       "      <td>116.0</td>\n",
       "    </tr>\n",
       "    <tr>\n",
       "      <th>11396</th>\n",
       "      <td>11397</td>\n",
       "      <td>5011</td>\n",
       "      <td>2023-03-26</td>\n",
       "      <td>2024-08-26 12:55:44</td>\n",
       "      <td>113.0</td>\n",
       "    </tr>\n",
       "    <tr>\n",
       "      <th>9884</th>\n",
       "      <td>9885</td>\n",
       "      <td>4327</td>\n",
       "      <td>2023-03-14</td>\n",
       "      <td>2024-08-26 16:54:36</td>\n",
       "      <td>119.0</td>\n",
       "    </tr>\n",
       "  </tbody>\n",
       "</table>\n",
       "</div>"
      ],
      "text/plain": [
       "       order_details_id  order_id order_date          order_time  item_id\n",
       "3972               3973      1771 2023-01-30 2024-08-26 19:46:17    131.0\n",
       "8260               8261      3627 2023-03-02 2024-08-26 18:45:21    123.0\n",
       "3445               3446      1527 2023-01-26 2024-08-26 15:14:30    116.0\n",
       "11396             11397      5011 2023-03-26 2024-08-26 12:55:44    113.0\n",
       "9884               9885      4327 2023-03-14 2024-08-26 16:54:36    119.0"
      ]
     },
     "execution_count": 24,
     "metadata": {},
     "output_type": "execute_result"
    }
   ],
   "source": [
    "order.sample(5)"
   ]
  },
  {
   "cell_type": "code",
   "execution_count": 26,
   "metadata": {},
   "outputs": [],
   "source": [
    "# Changeing data types\n",
    "order['order_time'] = pd.to_datetime(order['order_time'])"
   ]
  },
  {
   "cell_type": "code",
   "execution_count": null,
   "metadata": {},
   "outputs": [],
   "source": [
    "order['order_date'] = pd.to_datetime(order['order_date'])"
   ]
  },
  {
   "cell_type": "code",
   "execution_count": 28,
   "metadata": {},
   "outputs": [],
   "source": [
    "import re\n",
    "\n",
    "def clean_name(filename):\n",
    "    \"\"\"\n",
    "    Cleans a table name by removing or replacing unwanted characters.\n",
    "\n",
    "    Args:\n",
    "        filename (str): The original table name or filename.\n",
    "\n",
    "    Returns:\n",
    "        str: The cleaned table name.\n",
    "    \"\"\"\n",
    "    # Convert to lowercase\n",
    "    cleaned_name = filename.lower()\n",
    "\n",
    "    # Replace spaces, hyphens, slashes, and backslashes with underscores\n",
    "    cleaned_name = re.sub(r'[ \\-/\\\\]', '_', cleaned_name)\n",
    "\n",
    "    # Remove all other special characters (keeping only alphanumeric and underscores)\n",
    "    cleaned_name = re.sub(r'[^a-z0-9_]', '', cleaned_name)\n",
    "\n",
    "    # Ensure the name does not start with a number (optional)\n",
    "    if cleaned_name and cleaned_name[0].isdigit():\n",
    "        cleaned_name = '_' + cleaned_name\n",
    "\n",
    "    return cleaned_name"
   ]
  },
  {
   "cell_type": "code",
   "execution_count": 31,
   "metadata": {},
   "outputs": [],
   "source": [
    "menu.columns = [clean_name(x) for x in menu.columns]\n",
    "order.columns = [clean_name(x) for x in order.columns]\n",
    "meta.columns = [clean_name(x) for x in meta.columns]\n"
   ]
  },
  {
   "cell_type": "code",
   "execution_count": 32,
   "metadata": {},
   "outputs": [],
   "source": [
    "# Mapping\n",
    "\n",
    "# mapping data types of sql\n",
    "\n",
    "dtypesMapping = {\n",
    "        'int64': 'BIGINT',\n",
    "        'int32': 'INT',\n",
    "        'int16': 'SMALLINT',\n",
    "        'int8': 'TINYINT',\n",
    "        'float64': 'DOUBLE',\n",
    "        'float32': 'FLOAT',\n",
    "        'complex128': 'VARCHAR',  # SQL does not have a direct complex type\n",
    "        'complex64': 'VARCHAR',   # SQL does not have a direct complex type\n",
    "        'bool': 'BOOLEAN',\n",
    "        'object': 'VARCHAR',      # For object type, we use VARCHAR\n",
    "        'string': 'VARCHAR',      # For new pandas string type\n",
    "        'category': 'VARCHAR',    # SQL does not have a direct category type\n",
    "        'datetime64[ns]': 'TIMESTAMP',\n",
    "        'timedelta64[ns]': 'INTERVAL',  # Note: SQL support for intervals varies\n",
    "        'period': 'VARCHAR',      # No direct SQL type for pandas Period\n",
    "        'interval': 'VARCHAR',    # No direct SQL type for pandas Interval\n",
    "        'Int32': 'INTEGER',       # Nullable integer\n",
    "        'Float32': 'FLOAT',       # Nullable float\n",
    "        'String': 'VARCHAR',      # Nullable string\n",
    "        'Boolean': 'BOOLEAN'      # Nullable boolean\n",
    "    }\n",
    "\n"
   ]
  },
  {
   "cell_type": "code",
   "execution_count": 33,
   "metadata": {},
   "outputs": [],
   "source": [
    "col_menu = \", \".join(\"{} {}\".format(n, d) for (n, d) in zip(menu.columns, menu.dtypes.replace(dtypesMapping)))\n",
    "col_order = \", \".join(\"{} {}\".format(n, d) for (n, d) in zip(order.columns, order.dtypes.replace(dtypesMapping)))\n",
    "col_meta = \", \".join(\"{} {}\".format(n, d) for (n, d) in zip(meta.columns, meta.dtypes.replace(dtypesMapping)))\n"
   ]
  },
  {
   "cell_type": "code",
   "execution_count": null,
   "metadata": {},
   "outputs": [],
   "source": []
  }
 ],
 "metadata": {
  "kernelspec": {
   "display_name": "myenv",
   "language": "python",
   "name": "python3"
  },
  "language_info": {
   "codemirror_mode": {
    "name": "ipython",
    "version": 3
   },
   "file_extension": ".py",
   "mimetype": "text/x-python",
   "name": "python",
   "nbconvert_exporter": "python",
   "pygments_lexer": "ipython3",
   "version": "3.11.4"
  }
 },
 "nbformat": 4,
 "nbformat_minor": 2
}
